{
 "cells": [
  {
   "cell_type": "code",
   "execution_count": null,
   "metadata": {},
   "outputs": [],
   "source": [
    "#1a)\n",
    "def hcf(x , y):\n",
    "    \n",
    "    while(y):\n",
    "        x, y = y, x %y\n",
    "    return x\n",
    "\n",
    "a = 10\n",
    "b = 20\n",
    "lcm = a*b/hcf(a,b)\n",
    "\n",
    "print(lcm)\n"
   ]
  },
  {
   "cell_type": "code",
   "execution_count": null,
   "metadata": {},
   "outputs": [],
   "source": [
    "#2a)\n",
    "def hcf(x , y):\n",
    "    \n",
    "    while(y):\n",
    "        x, y = y, x %y\n",
    "    return x\n",
    "hcf = hcf(300, 400)\n",
    "print(hcf)"
   ]
  },
  {
   "cell_type": "code",
   "execution_count": 34,
   "metadata": {},
   "outputs": [],
   "source": [
    "#3a)\n",
    "def decimaltobinary(num):\n",
    "  L = []\n",
    "    \n",
    "  def rec(num):\n",
    "  \n",
    "     if num>=1:\n",
    "        rec(num//2)\n",
    "        L.append(num%2)\n",
    "  rec(num)      \n",
    "  return L  "
   ]
  },
  {
   "cell_type": "code",
   "execution_count": 40,
   "metadata": {},
   "outputs": [
    {
     "data": {
      "text/plain": [
       "112"
      ]
     },
     "execution_count": 40,
     "metadata": {},
     "output_type": "execute_result"
    }
   ],
   "source": [
    "#4a)\n",
    "x =\"p\"\n",
    "ord(x)"
   ]
  },
  {
   "cell_type": "code",
   "execution_count": 42,
   "metadata": {},
   "outputs": [
    {
     "name": "stdout",
     "output_type": "stream",
     "text": [
      "3\n"
     ]
    }
   ],
   "source": [
    "a = 1\n",
    "b = 2\n",
    "\n",
    "operator = \"+\"\n",
    "\n",
    "if operator == \"+\":\n",
    "    print(a + b)\n",
    "elif operator == \"-\":\n",
    "    print(a - b)    \n",
    "elif operator == \"/\":\n",
    "    print(a / b)    \n",
    "elif operator == \"*\":\n",
    "    print(a * b)  \n",
    "    "
   ]
  },
  {
   "cell_type": "code",
   "execution_count": null,
   "metadata": {},
   "outputs": [],
   "source": []
  }
 ],
 "metadata": {
  "kernelspec": {
   "display_name": "Python 3",
   "language": "python",
   "name": "python3"
  },
  "language_info": {
   "codemirror_mode": {
    "name": "ipython",
    "version": 3
   },
   "file_extension": ".py",
   "mimetype": "text/x-python",
   "name": "python",
   "nbconvert_exporter": "python",
   "pygments_lexer": "ipython3",
   "version": "3.8.3"
  }
 },
 "nbformat": 4,
 "nbformat_minor": 4
}
